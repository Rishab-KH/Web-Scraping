{
 "cells": [
  {
   "cell_type": "code",
   "execution_count": 1,
   "metadata": {},
   "outputs": [],
   "source": [
    "#!pip install bs4"
   ]
  },
  {
   "cell_type": "code",
   "execution_count": 2,
   "metadata": {},
   "outputs": [],
   "source": [
    "import bs4"
   ]
  },
  {
   "cell_type": "code",
   "execution_count": 3,
   "metadata": {},
   "outputs": [],
   "source": [
    "from urllib.request import urlopen as uReq"
   ]
  },
  {
   "cell_type": "code",
   "execution_count": 4,
   "metadata": {},
   "outputs": [],
   "source": [
    "from bs4 import BeautifulSoup as soup"
   ]
  },
  {
   "cell_type": "code",
   "execution_count": 5,
   "metadata": {},
   "outputs": [],
   "source": [
    "my_url = \"https://www.newegg.com/Video-Cards-Video-Devices/Category/ID-38?Tpk=graphics%20card\""
   ]
  },
  {
   "cell_type": "code",
   "execution_count": 6,
   "metadata": {},
   "outputs": [],
   "source": [
    "uClient = uReq(my_url)"
   ]
  },
  {
   "cell_type": "code",
   "execution_count": 7,
   "metadata": {},
   "outputs": [],
   "source": [
    "# Raw html can't open this yet coz the file can be very big\n",
    "page_html = uClient.read()\n",
    "# It loads contents into page_html\n",
    "uClient.close()\n",
    "# html parsing\n",
    "page_soup = soup(page_html, \"html.parser\")"
   ]
  },
  {
   "cell_type": "code",
   "execution_count": 8,
   "metadata": {},
   "outputs": [
    {
     "data": {
      "text/plain": [
       "<h1 class=\"page-title-text\">Video Cards &amp; Video Devices</h1>"
      ]
     },
     "execution_count": 8,
     "metadata": {},
     "output_type": "execute_result"
    }
   ],
   "source": [
    "page_soup.h1"
   ]
  },
  {
   "cell_type": "code",
   "execution_count": 9,
   "metadata": {},
   "outputs": [
    {
     "data": {
      "text/plain": [
       "<span class=\"noCSS\">Skip to:</span>"
      ]
     },
     "execution_count": 9,
     "metadata": {},
     "output_type": "execute_result"
    }
   ],
   "source": [
    "page_soup.body.span"
   ]
  },
  {
   "cell_type": "code",
   "execution_count": 10,
   "metadata": {},
   "outputs": [],
   "source": [
    "containers = page_soup.findAll(\"div\", {\"class\":\"item-info\"})"
   ]
  },
  {
   "cell_type": "code",
   "execution_count": 11,
   "metadata": {},
   "outputs": [
    {
     "data": {
      "text/plain": [
       "12"
      ]
     },
     "execution_count": 11,
     "metadata": {},
     "output_type": "execute_result"
    }
   ],
   "source": [
    "len(containers) #12 graphics card"
   ]
  },
  {
   "cell_type": "code",
   "execution_count": 12,
   "metadata": {},
   "outputs": [],
   "source": [
    "container = containers[0]\n",
    "\n"
   ]
  },
  {
   "cell_type": "code",
   "execution_count": 13,
   "metadata": {},
   "outputs": [],
   "source": [
    "#container = container.findAll(\"div\", {\"class\": \"item-info\"})"
   ]
  },
  {
   "cell_type": "code",
   "execution_count": 22,
   "metadata": {},
   "outputs": [
    {
     "data": {
      "text/plain": [
       "30"
      ]
     },
     "execution_count": 22,
     "metadata": {},
     "output_type": "execute_result"
    }
   ],
   "source": [
    "f = open(\"products.csv\", mode = 'w')\n",
    "headers = \"brand, product_name, shipping\\n\"\n",
    "f.write(headers)    "
   ]
  },
  {
   "cell_type": "code",
   "execution_count": 17,
   "metadata": {},
   "outputs": [
    {
     "name": "stdout",
     "output_type": "stream",
     "text": [
      "MSI\n",
      "MSI GeForce GTX 1660 SUPER DirectX 12 GTX 1660 SUPER VENTUS XS OC Video Card\n",
      "Free Shipping\n",
      "\n",
      "EVGA\n",
      "EVGA GeForce GTX 1660 Ti SC ULTRA GAMING| 06G-P4-1667-KR| 6GB GDDR6| Dual Fan| Metal Backplate\n",
      "Free Shipping\n",
      "\n",
      "ASUS\n",
      "ASUS ROG Strix Radeon RX 5700 XT ROG-STRIX-RX5700XT-O8G-GAMING Video Card\n",
      "Free Shipping\n",
      "\n",
      "MSI\n",
      "MSI GeForce RTX 2060 DirectX 12 RTX 2060 VENTUS XS 6G OC Video Card\n",
      "Free Shipping\n",
      "\n",
      "Sapphire Tech\n",
      "SAPPHIRE PULSE Radeon RX 5600 XT DirectX 12 100419P6GL Video Card\n",
      "$3.99 Shipping\n",
      "\n",
      "GIGABYTE\n",
      "GIGABYTE Radeon RX 570 DirectX 12 GV-RX570GAMING-4GD REV2.0 Video Card\n",
      "Free Shipping\n",
      "\n",
      "MSI\n",
      "MSI Radeon RX 570 DirectX 12 RX 570 8GT OC Video Card\n",
      "$0.99 Shipping\n",
      "\n",
      "ASUS\n",
      "ASUS GeForce RTX 2060 Overclocked 6G GDDR6 Dual-Fan EVO Edition Graphics Card (DUAL-RTX2060-O6G-EVO)\n",
      "Free Shipping\n",
      "\n",
      "ASRock\n",
      "ASRock Phantom Gaming D Radeon RX 570 DirectX 12 RX570 4G Video Card\n",
      "Free Shipping\n",
      "\n",
      "EVGA\n",
      "EVGA GeForce RTX 2080 Ti XC HYBRID GAMING| 11G-P4-2384-KR| 11GB GDDR6| HYBRID| RGB LED Logo| Metal Backplate\n",
      "Free Shipping\n",
      "\n",
      "EVGA\n",
      "EVGA GeForce GTX 1660 Ti XC Black GAMING| 06G-P4-1261-KR| 6GB GDDR6| HDB Fan\n",
      "$3.99 Shipping\n",
      "\n",
      "EVGA\n",
      "EVGA GeForce RTX 2060 XC GAMING| 6GB GDDR6| HDB Fan Graphics Card 06G-P4-2063-KR\n",
      "Free Shipping\n",
      "\n"
     ]
    }
   ],
   "source": [
    "for container in containers:\n",
    "    title_make = container.div.img[\"title\"]\n",
    "    title_container = container.findAll(\"a\", {\"class\":\"item-title\"})\n",
    "    print(title_make)\n",
    "    model = title_container[0].text\n",
    "    print(model.replace(\",\", \"|\").strip())\n",
    "    free_shipping = container.findAll(\"li\", {\"class\": \"price-ship\"})\n",
    "    shipping = free_shipping[0].text.strip()\n",
    "    print(shipping)\n",
    "    print()\n",
    "    f.write(title_make + \",\" + model.replace(\",\", \"|\") + \",\" + shipping)\n",
    "    "
   ]
  },
  {
   "cell_type": "code",
   "execution_count": null,
   "metadata": {},
   "outputs": [],
   "source": []
  },
  {
   "cell_type": "code",
   "execution_count": null,
   "metadata": {},
   "outputs": [],
   "source": []
  },
  {
   "cell_type": "code",
   "execution_count": null,
   "metadata": {},
   "outputs": [],
   "source": []
  }
 ],
 "metadata": {
  "kernelspec": {
   "display_name": "Python 3",
   "language": "python",
   "name": "python3"
  },
  "language_info": {
   "codemirror_mode": {
    "name": "ipython",
    "version": 3
   },
   "file_extension": ".py",
   "mimetype": "text/x-python",
   "name": "python",
   "nbconvert_exporter": "python",
   "pygments_lexer": "ipython3",
   "version": "3.7.4"
  }
 },
 "nbformat": 4,
 "nbformat_minor": 2
}
