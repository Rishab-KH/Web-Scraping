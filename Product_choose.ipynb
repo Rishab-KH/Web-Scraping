{
 "cells": [
  {
   "cell_type": "code",
   "execution_count": 1,
   "metadata": {},
   "outputs": [],
   "source": [
    "import bs4\n",
    "from urllib.request import urlopen as uReq\n",
    "from bs4 import BeautifulSoup as Soup "
   ]
  },
  {
   "cell_type": "code",
   "execution_count": 2,
   "metadata": {},
   "outputs": [],
   "source": [
    "my_url = \"https://www.newegg.com/Video-Cards-Video-Devices/Category/ID-38?Tpk=graphics%20card\""
   ]
  },
  {
   "cell_type": "code",
   "execution_count": 3,
   "metadata": {},
   "outputs": [],
   "source": [
    "uClient = uReq(my_url)"
   ]
  },
  {
   "cell_type": "code",
   "execution_count": 4,
   "metadata": {},
   "outputs": [],
   "source": [
    "page_html = uClient.read()"
   ]
  },
  {
   "cell_type": "code",
   "execution_count": 5,
   "metadata": {},
   "outputs": [],
   "source": [
    "uClient.close()"
   ]
  },
  {
   "cell_type": "code",
   "execution_count": 6,
   "metadata": {},
   "outputs": [],
   "source": [
    "page_soup = Soup(page_html, \"html.parser\")"
   ]
  },
  {
   "cell_type": "code",
   "execution_count": 7,
   "metadata": {},
   "outputs": [
    {
     "data": {
      "text/plain": [
       "<h1 class=\"page-title-text\">Video Cards &amp; Video Devices</h1>"
      ]
     },
     "execution_count": 7,
     "metadata": {},
     "output_type": "execute_result"
    }
   ],
   "source": [
    "page_soup.h1"
   ]
  },
  {
   "cell_type": "code",
   "execution_count": 8,
   "metadata": {},
   "outputs": [],
   "source": [
    "#page_soup.body"
   ]
  },
  {
   "cell_type": "code",
   "execution_count": 9,
   "metadata": {},
   "outputs": [],
   "source": [
    "containers = page_soup.findAll(\"div\", {\"class\": \"item-info\"})"
   ]
  },
  {
   "cell_type": "code",
   "execution_count": 10,
   "metadata": {},
   "outputs": [
    {
     "data": {
      "text/plain": [
       "12"
      ]
     },
     "execution_count": 10,
     "metadata": {},
     "output_type": "execute_result"
    }
   ],
   "source": [
    "len(containers)"
   ]
  },
  {
   "cell_type": "code",
   "execution_count": 11,
   "metadata": {},
   "outputs": [
    {
     "name": "stdout",
     "output_type": "stream",
     "text": [
      "Enter Lower Price Range: 100\n",
      "Enter Higher Price Range: 1000\n"
     ]
    }
   ],
   "source": [
    "price_l = float(input(\"Enter Lower Price Range: \"))\n",
    "price_h = float(input(\"Enter Higher Price Range: \"))"
   ]
  },
  {
   "cell_type": "code",
   "execution_count": 17,
   "metadata": {},
   "outputs": [
    {
     "data": {
      "text/plain": [
       "53"
      ]
     },
     "execution_count": 17,
     "metadata": {},
     "output_type": "execute_result"
    }
   ],
   "source": [
    "f = open(\"Product_Choose5.csv\", mode = \"w\")\n",
    "header = \"model_brand, model_name, model_price, model_shipping\\n\"\n",
    "f.write(header)\n"
   ]
  },
  {
   "cell_type": "code",
   "execution_count": 18,
   "metadata": {},
   "outputs": [
    {
     "name": "stdout",
     "output_type": "stream",
     "text": [
      "MSI\n",
      "MSI GeForce GTX 1660 SUPER DirectX 12 GTX 1660 SUPER VENTUS XS OC Video Card\n",
      "$249.99\n",
      "Free Shipping\n",
      "EVGA\n",
      "EVGA GeForce GTX 1660 Ti SC ULTRA GAMING| 06G-P4-1667-KR| 6GB GDDR6| Dual Fan| Metal Backplate\n",
      "$299.99\n",
      "Free Shipping\n",
      "ASUS\n",
      "ASUS ROG Strix Radeon RX 5700 XT ROG-STRIX-RX5700XT-O8G-GAMING Video Card\n",
      "$459.99\n",
      "Free Shipping\n",
      "MSI\n",
      "MSI GeForce RTX 2060 DirectX 12 RTX 2060 VENTUS XS 6G OC Video Card\n",
      "$339.99\n",
      "Free Shipping\n",
      "Sapphire Tech\n",
      "SAPPHIRE PULSE Radeon RX 5600 XT DirectX 12 100419P6GL Video Card\n",
      "$289.99\n",
      "$3.99 Shipping\n",
      "GIGABYTE\n",
      "GIGABYTE Radeon RX 570 DirectX 12 GV-RX570GAMING-4GD REV2.0 Video Card\n",
      "$119.99\n",
      "Free Shipping\n",
      "MSI\n",
      "MSI Radeon RX 570 DirectX 12 RX 570 8GT OC Video Card\n",
      "$139.99\n",
      "$0.99 Shipping\n",
      "ASUS\n",
      "ASUS GeForce RTX 2060 Overclocked 6G GDDR6 Dual-Fan EVO Edition Graphics Card (DUAL-RTX2060-O6G-EVO)\n",
      "$349.99\n",
      "Free Shipping\n",
      "ASRock\n",
      "ASRock Phantom Gaming D Radeon RX 570 DirectX 12 RX570 4G Video Card\n",
      "$119.99\n",
      "Free Shipping\n",
      "EVGA\n",
      "EVGA GeForce RTX 2080 Ti XC HYBRID GAMING| 11G-P4-2384-KR| 11GB GDDR6| HYBRID| RGB LED Logo| Metal Backplate\n",
      "$1399.99\n",
      "Free Shipping\n",
      "EVGA\n",
      "EVGA GeForce GTX 1660 Ti XC Black GAMING| 06G-P4-1261-KR| 6GB GDDR6| HDB Fan\n",
      "$279.99\n",
      "$3.99 Shipping\n",
      "EVGA\n",
      "EVGA GeForce RTX 2060 XC GAMING| 6GB GDDR6| HDB Fan Graphics Card 06G-P4-2063-KR\n",
      "$369.99\n",
      "Free Shipping\n",
      "[]\n"
     ]
    }
   ],
   "source": [
    "\n",
    "out = []\n",
    "for container in containers:\n",
    "    model_brand = container.div.a.img[\"title\"]\n",
    "    print(model_brand)\n",
    "    model_name = container.findAll(\"a\", {\"class\":\"item-title\"})[0].text.replace(\",\", \"|\")\n",
    "    print(model_name)\n",
    "    mylist = container.findAll(\"li\", {\"class\":\"price-current\"})[0].text.strip().split()\n",
    "    model_price = mylist[0].replace(\",\", \"\")\n",
    "    print(model_price)\n",
    "    price_check = float(model_price[1:])\n",
    "    model_shipping = container.findAll(\"li\", {\"class\": \"price-ship\"})[0].text.strip()\n",
    "    print(model_shipping)\n",
    "    \n",
    "    if price_check >= price_l and price_check <= price_h and model_shipping == \"Free Shipping\":\n",
    "        f.write(model_brand + \",\" + model_name + \",\" + model_price + \",\" + model_shipping + \"\\n\")\n",
    "\n",
    "print(out)\n"
   ]
  },
  {
   "cell_type": "code",
   "execution_count": 19,
   "metadata": {},
   "outputs": [],
   "source": [
    "f.close()"
   ]
  },
  {
   "cell_type": "code",
   "execution_count": null,
   "metadata": {},
   "outputs": [],
   "source": []
  }
 ],
 "metadata": {
  "kernelspec": {
   "display_name": "Python 3",
   "language": "python",
   "name": "python3"
  },
  "language_info": {
   "codemirror_mode": {
    "name": "ipython",
    "version": 3
   },
   "file_extension": ".py",
   "mimetype": "text/x-python",
   "name": "python",
   "nbconvert_exporter": "python",
   "pygments_lexer": "ipython3",
   "version": "3.7.4"
  }
 },
 "nbformat": 4,
 "nbformat_minor": 2
}
