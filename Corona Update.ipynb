{
 "cells": [
  {
   "cell_type": "code",
   "execution_count": 1,
   "metadata": {},
   "outputs": [
    {
     "name": "stdout",
     "output_type": "stream",
     "text": [
      "Requirement already satisfied: bs4 in c:\\users\\rishab\\appdata\\local\\programs\\python\\python38-32\\lib\\site-packages (0.0.1)\n",
      "Requirement already satisfied: beautifulsoup4 in c:\\users\\rishab\\appdata\\local\\programs\\python\\python38-32\\lib\\site-packages (from bs4) (4.9.1)\n",
      "Requirement already satisfied: soupsieve>1.2 in c:\\users\\rishab\\appdata\\local\\programs\\python\\python38-32\\lib\\site-packages (from beautifulsoup4->bs4) (2.0.1)\n"
     ]
    }
   ],
   "source": [
    "!pip install bs4"
   ]
  },
  {
   "cell_type": "code",
   "execution_count": 2,
   "metadata": {},
   "outputs": [
    {
     "name": "stdout",
     "output_type": "stream",
     "text": [
      "Requirement already satisfied: plyer in c:\\users\\rishab\\appdata\\local\\programs\\python\\python38-32\\lib\\site-packages (1.4.3)\n"
     ]
    }
   ],
   "source": [
    "!pip install plyer"
   ]
  },
  {
   "cell_type": "code",
   "execution_count": 3,
   "metadata": {},
   "outputs": [],
   "source": [
    "from plyer import notification\n",
    "import requests\n",
    "from bs4 import BeautifulSoup\n",
    "import re"
   ]
  },
  {
   "cell_type": "code",
   "execution_count": 4,
   "metadata": {},
   "outputs": [],
   "source": [
    "def NotifyMe(title, message):\n",
    "    notification.notify(title = title,\n",
    "                       message = message,\n",
    "                       app_icon = \"D:\\\\virus.ico\",\n",
    "                       timeout = 15)\n",
    "def GetData(url):\n",
    "    r = requests.get(url)\n",
    "    return r.text"
   ]
  },
  {
   "cell_type": "code",
   "execution_count": 7,
   "metadata": {},
   "outputs": [
    {
     "name": "stdout",
     "output_type": "stream",
     "text": [
      "['AndamanandNicobarIslands 0 33 0 33', 'AndhraPradesh 2191 2802 77 5070', 'ArunachalPradesh 56 1 0 57', 'Assam 1848 1085 4 2937', 'Bihar 2563 2864 32 5459', 'Chandigarh 32 286 5 323', 'Chhattisgarh 848 386 6 1240', 'DadarNagarHaveli 20 2 0 22', 'Delhi 18543 11861 905 31309', 'Goa 292 67 0 359', 'Gujarat 5336 14365 1313 21014', 'Haryana 3030 2134 45 5209', 'HimachalPradesh 191 249 5 445', 'JammuandKashmir 2792 1506 48 4346', 'Jharkhand 844 559 8 1411', 'Karnataka 3251 2604 66 5921', 'Kerala 1232 848 16 2096', 'Ladakh 55 52 1 108', 'MadhyaPradesh 2700 6729 420 9849', 'Maharashtra 44860 42638 3289 90787', 'Manipur 243 61 0 304', 'Meghalaya 29 13 1 43', 'Mizoram 87 1 0 88', 'Nagaland 117 10 0 127', 'Odisha 998 2133 9 3140', 'Puducherry 75 52 0 127', 'Punjab 497 2167 55 2719', 'Rajasthan 2662 8328 255 11245', 'Sikkim 13 0 0 13', 'TamilNadu 16282 18325 307 34914', 'Telengana 1963 1809 148 3920', 'Tripura 671 192 1 864', 'Uttarakhand 769 755 13 1537', 'UttarPradesh 4365 6669 301 11335', 'WestBengal 4950 3620 415 8985']\n",
      "Enter The State To Check Their COVID-19 Status: Karnataka\n",
      "Do You Want To Search The COVID Status From Another State: (y/n): y\n",
      "Enter The State To Check Their COVID-19 Status: AndhraPradesh\n",
      "Do You Want To Search The COVID Status From Another State: (y/n): y\n",
      "Enter The State To Check Their COVID-19 Status: ArunachalPradesh\n",
      "Do You Want To Search The COVID Status From Another State: (y/n): y\n",
      "Enter The State To Check Their COVID-19 Status: TamilNadu\n",
      "Do You Want To Search The COVID Status From Another State: (y/n): y\n",
      "Enter The State To Check Their COVID-19 Status: Karnataka\n",
      "Do You Want To Search The COVID Status From Another State: (y/n): n\n",
      "['Karnataka', 'AndhraPradesh', 'ArunachalPradesh', 'TamilNadu', 'Karnataka']\n",
      "['AndhraPradesh', '2191', '2802', '77', '5070']\n",
      "['ArunachalPradesh', '56', '1', '0', '57']\n",
      "['Karnataka', '3251', '2604', '66', '5921']\n",
      "['Karnataka', '3251', '2604', '66', '5921']\n",
      "['TamilNadu', '16282', '18325', '307', '34914']\n"
     ]
    }
   ],
   "source": [
    "if __name__ == \"__main__\":\n",
    "    #NotifyMe(\"Rishab\", \"Let's Stop The Spread Of Covid 19\") \n",
    "    myHtmlData = GetData(\"https://www.mohfw.gov.in/\")\n",
    "    soup = BeautifulSoup(myHtmlData, \"html.parser\")\n",
    "    #print(soup.prettify())\n",
    "    mylist = []\n",
    "    for tr in soup.find_all(\"tbody\")[0].find_all(\"tr\"):\n",
    "        item = tr.get_text().replace(\" \", \"\").strip().replace(\"\\n\", \" \")\n",
    "        item = item[2:].strip()\n",
    "        mylist.append(item[0:35])\n",
    "    # To Get Only States \n",
    "    my_final_list = []\n",
    "    for item in mylist[0:35]:\n",
    "        my_final_list.append(item)\n",
    "    #print(my_final_list) \n",
    "    \n",
    "    choose_state = []\n",
    "    x = 'y'\n",
    "    while x == 'y':\n",
    "        state = input(\"Enter The State To Check Their COVID-19 Status: \")\n",
    "        choose_state.append(state)\n",
    "        x = input(\"Do You Want To Search The COVID Status From Another State: (y/n): \").lower()\n",
    "        if x == 'y':\n",
    "            continue\n",
    "        else:\n",
    "            break\n",
    "    #print(choose_state)\n",
    "    #choose_state = ['Maharashtra', 'Telengana', 'Karnataka']\n",
    "    for i in range(0, len(my_final_list) ):\n",
    "        for j in range(0, len(choose_state) ):\n",
    "            if re.findall(choose_state[j], my_final_list[i]) != []:\n",
    "                temp = my_final_list[i].split(\" \")\n",
    "                #print(temp)\n",
    "                ntitle = \"COVID-19 CASES IN FOLLOWING STATES\"\n",
    "                nmessage = (\"State: {}, Active Cases: {}, Cured Cases: {}, Deaths: {}\".format(temp[0], temp[1], temp[2], temp[4]))\n",
    "                NotifyMe(ntitle, nmessage)\n",
    "        "
   ]
  },
  {
   "cell_type": "code",
   "execution_count": null,
   "metadata": {},
   "outputs": [],
   "source": []
  },
  {
   "cell_type": "code",
   "execution_count": null,
   "metadata": {},
   "outputs": [],
   "source": []
  }
 ],
 "metadata": {
  "kernelspec": {
   "display_name": "Python 3",
   "language": "python",
   "name": "python3"
  },
  "language_info": {
   "codemirror_mode": {
    "name": "ipython",
    "version": 3
   },
   "file_extension": ".py",
   "mimetype": "text/x-python",
   "name": "python",
   "nbconvert_exporter": "python",
   "pygments_lexer": "ipython3",
   "version": "3.8.3"
  }
 },
 "nbformat": 4,
 "nbformat_minor": 4
}
